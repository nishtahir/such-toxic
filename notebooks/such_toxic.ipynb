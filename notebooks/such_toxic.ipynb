{
 "cells": [
  {
   "cell_type": "code",
   "execution_count": 1,
   "metadata": {
    "colab": {
     "base_uri": "https://localhost:8080/"
    },
    "id": "pjaFBQSXLbfZ",
    "outputId": "70715375-e7fd-468e-d93b-1835bfe431fe"
   },
   "outputs": [
    {
     "data": {
      "text/plain": [
       "True"
      ]
     },
     "execution_count": 1,
     "metadata": {},
     "output_type": "execute_result"
    }
   ],
   "source": [
    "%load_ext autoreload\n",
    "%autoreload 2\n",
    "\n",
    "from dotenv import load_dotenv\n",
    "\n",
    "load_dotenv(\"../.env\")"
   ]
  },
  {
   "cell_type": "code",
   "execution_count": 2,
   "metadata": {},
   "outputs": [],
   "source": [
    "import json\n",
    "import os\n",
    "\n",
    "import matplotlib.pyplot as plt\n",
    "import mlflow\n",
    "import torch\n",
    "from sentence_transformers import SentenceTransformer\n",
    "from torch.utils.data import DataLoader, Dataset, random_split\n",
    "from tqdm.notebook import tqdm\n",
    "\n",
    "from such_toxic.text_classifier import TextClassifier"
   ]
  },
  {
   "cell_type": "code",
   "execution_count": 3,
   "metadata": {
    "colab": {
     "base_uri": "https://localhost:8080/"
    },
    "id": "wP3KWVFb-ZgB",
    "outputId": "d2d9f071-7a16-4719-8d84-9b72f4c46e4d"
   },
   "outputs": [
    {
     "data": {
      "text/plain": [
       "device(type='cuda')"
      ]
     },
     "execution_count": 3,
     "metadata": {},
     "output_type": "execute_result"
    }
   ],
   "source": [
    "if torch.cuda.is_available():\n",
    "    device = torch.device(\"cuda\")\n",
    "elif torch.backends.mps.is_available():\n",
    "    device = torch.device(\"mps\")\n",
    "else:\n",
    "    device = torch.device(\"cpu\")\n",
    "\n",
    "device"
   ]
  },
  {
   "cell_type": "code",
   "execution_count": 4,
   "metadata": {},
   "outputs": [],
   "source": [
    "embedded_dataset_path = \"../target/wiki_data_all_human_all_mini.json\"\n",
    "\n",
    "sentence_transformer_model = \"sentence-transformers/all-MiniLM-L6-v2\"\n",
    "experiment_name = \"such-toxic\"\n",
    "model_name = \"such_toxic\"\n",
    "\n",
    "num_classes = 6\n",
    "batch_size = 32\n",
    "epochs = 15\n",
    "lr = 0.001"
   ]
  },
  {
   "cell_type": "code",
   "execution_count": 5,
   "metadata": {},
   "outputs": [
    {
     "name": "stderr",
     "output_type": "stream",
     "text": [
      "2024/03/20 23:57:32 WARNING mlflow.utils.autologging_utils: You are using an unsupported version of pytorch. If you encounter errors during autologging, try upgrading / downgrading pytorch to a supported version, or try upgrading MLflow.\n",
      "2024/03/20 23:57:32 INFO mlflow.system_metrics.system_metrics_monitor: Started monitoring system metrics.\n"
     ]
    },
    {
     "name": "stdout",
     "output_type": "stream",
     "text": [
      "Starting run\n"
     ]
    }
   ],
   "source": [
    "if os.getenv(\"MLFLOW_ENABLED\") == \"true\":\n",
    "    print(\"Starting run\")\n",
    "    mlflow.set_tracking_uri(os.getenv(\"MLFLOW_TRACKING_URI\"))\n",
    "    mlflow.set_experiment(\"such-toxic\")\n",
    "    mlflow.pytorch.autolog()\n",
    "    mlflow.start_run()\n",
    "\n",
    "    mlflow.log_param(\"model_name\", model_name)\n",
    "    mlflow.log_param(\"num_classes\", num_classes)\n",
    "    mlflow.log_param(\"batch_size\", batch_size)\n",
    "    mlflow.log_param(\"epochs\", epochs)\n",
    "    mlflow.log_param(\"learning_rate\", lr)"
   ]
  },
  {
   "cell_type": "code",
   "execution_count": 6,
   "metadata": {},
   "outputs": [],
   "source": [
    "with open(embedded_dataset_path) as f:\n",
    "    dataset = json.loads(f.read())\n",
    "\n",
    "if os.getenv(\"MLFLOW_ENABLED\") == \"true\":\n",
    "    mlflow.log_artifact(embedded_dataset_path)"
   ]
  },
  {
   "cell_type": "code",
   "execution_count": 7,
   "metadata": {
    "colab": {
     "base_uri": "https://localhost:8080/"
    },
    "id": "fPK5CKUXBrsq",
    "outputId": "564d1dd9-98b0-4ab9-eaf4-e2127e14c4f1"
   },
   "outputs": [
    {
     "name": "stdout",
     "output_type": "stream",
     "text": [
      "embedding:  torch.Size([32, 384])\n",
      "labels:  torch.Size([32, 6])\n"
     ]
    }
   ],
   "source": [
    "class SuchToxicDataset(Dataset):\n",
    "    def __init__(self, rows):\n",
    "        self.rows = rows\n",
    "\n",
    "    def __len__(self):\n",
    "        return len(self.rows)\n",
    "\n",
    "    def __getitem__(self, idx):\n",
    "        row = self.rows[idx]\n",
    "        labels = torch.tensor(\n",
    "            [\n",
    "                row[\"toxic\"],\n",
    "                row[\"severe_toxic\"],\n",
    "                row[\"obscene\"],\n",
    "                row[\"threat\"],\n",
    "                row[\"insult\"],\n",
    "                row[\"identity_hate\"],\n",
    "            ],\n",
    "            dtype=torch.float32,\n",
    "        )\n",
    "        embedding = torch.tensor(row[\"embedding\"])\n",
    "        return embedding, labels\n",
    "\n",
    "\n",
    "train, test = random_split(dataset, [0.8, 0.2])\n",
    "\n",
    "train_dataset = SuchToxicDataset(list(train))\n",
    "train_loader = DataLoader(train_dataset, batch_size=batch_size, shuffle=True)\n",
    "\n",
    "for batch in train_loader:\n",
    "    print(\"embedding: \", batch[0].shape)\n",
    "    print(\"labels: \", batch[1].shape)\n",
    "    break"
   ]
  },
  {
   "cell_type": "code",
   "execution_count": 8,
   "metadata": {},
   "outputs": [
    {
     "data": {
      "text/plain": [
       "TextClassifier(\n",
       "  (linear): Linear(in_features=384, out_features=6, bias=True)\n",
       "  (sigmoid): Sigmoid()\n",
       ")"
      ]
     },
     "execution_count": 8,
     "metadata": {},
     "output_type": "execute_result"
    }
   ],
   "source": [
    "loss_fn = torch.nn.BCELoss()\n",
    "model = TextClassifier(num_classes=num_classes).to(device)\n",
    "optimizer = torch.optim.Adam(model.parameters(), lr=0.001)\n",
    "\n",
    "model"
   ]
  },
  {
   "cell_type": "code",
   "execution_count": 9,
   "metadata": {
    "colab": {
     "base_uri": "https://localhost:8080/",
     "height": 407
    },
    "id": "ARgqk2bIIrMV",
    "outputId": "ea2ea464-11f0-4f63-9ff3-e3969874ec27"
   },
   "outputs": [
    {
     "data": {
      "application/vnd.jupyter.widget-view+json": {
       "model_id": "45c8592440104c87af26602b0ccc0b46",
       "version_major": 2,
       "version_minor": 0
      },
      "text/plain": [
       "Epoch:   0%|          | 0/15 [00:00<?, ?it/s]"
      ]
     },
     "metadata": {},
     "output_type": "display_data"
    }
   ],
   "source": [
    "losses = []\n",
    "\n",
    "pbar = tqdm(range(epochs), desc=\"Epoch\")\n",
    "for epoch in pbar:\n",
    "    total_loss = 0.0\n",
    "    for embedding, labels in train_loader:\n",
    "        optimizer.zero_grad()\n",
    "        embedding = embedding.squeeze(1).to(device)\n",
    "        labels = labels.to(device)\n",
    "\n",
    "        prediction = model(embedding)\n",
    "        loss = loss_fn(prediction, labels)\n",
    "        loss.backward()\n",
    "        optimizer.step()\n",
    "        total_loss += loss.item()\n",
    "\n",
    "    avg_loss = total_loss / len(train_loader)\n",
    "    losses.append(avg_loss)\n",
    "    pbar.set_postfix(loss=avg_loss)\n",
    "\n",
    "    if os.getenv(\"MLFLOW_ENABLED\") == \"true\":\n",
    "        mlflow.log_metric(\"loss\", avg_loss, step=epoch)"
   ]
  },
  {
   "cell_type": "code",
   "execution_count": 10,
   "metadata": {},
   "outputs": [
    {
     "data": {
      "image/png": "[encoded data removed]",
      "text/plain": [
       "<Figure size 640x480 with 1 Axes>"
      ]
     },
     "metadata": {},
     "output_type": "display_data"
    }
   ],
   "source": [
    "plt.plot(losses, marker=\"o\")\n",
    "plt.xlabel(\"Epoch\")\n",
    "plt.ylabel(\"Loss\")\n",
    "plt.title(\"Training Loss Curve\")\n",
    "plt.savefig(\"../target/training_loss.png\")"
   ]
  },
  {
   "cell_type": "code",
   "execution_count": 11,
   "metadata": {},
   "outputs": [],
   "source": [
    "torch.save(\n",
    "    {\n",
    "        \"epoch\": epochs,\n",
    "        \"model_state_dict\": model.state_dict(),\n",
    "        \"optimizer_state_dict\": optimizer.state_dict(),\n",
    "        \"loss\": losses[-1],\n",
    "    },\n",
    "    f\"../checkpoints/{model_name}.pth\",\n",
    ")\n",
    "\n",
    "if os.getenv(\"MLFLOW_ENABLED\") == \"true\":\n",
    "    mlflow.pytorch.log_model(model, \"such-toxic\")"
   ]
  },
  {
   "cell_type": "code",
   "execution_count": 12,
   "metadata": {},
   "outputs": [],
   "source": [
    "def accuracy(y_true, y_pred, threshold=0.8):\n",
    "    labels = 0\n",
    "    for true, pred in zip(y_true, y_pred):\n",
    "        pred = 1 if pred >= threshold else 0\n",
    "        if true == pred:\n",
    "            labels += 1\n",
    "    return labels / len(y_true)"
   ]
  },
  {
   "cell_type": "code",
   "execution_count": 13,
   "metadata": {},
   "outputs": [
    {
     "name": "stdout",
     "output_type": "stream",
     "text": [
      "0.976065885400333\n"
     ]
    }
   ],
   "source": [
    "total_accuracy = 0\n",
    "for row in list(test):\n",
    "    embedding = torch.tensor([row[\"embedding\"]]).to(device)\n",
    "    label = [\n",
    "        row[\"toxic\"],\n",
    "        row[\"severe_toxic\"],\n",
    "        row[\"obscene\"],\n",
    "        row[\"threat\"],\n",
    "        row[\"insult\"],\n",
    "        row[\"identity_hate\"],\n",
    "    ]\n",
    "\n",
    "    output = model(embedding)\n",
    "    output = output.cpu().detach().numpy().tolist()[0]\n",
    "    total_accuracy += accuracy(label, output)\n",
    "\n",
    "print(total_accuracy / len(test))"
   ]
  },
  {
   "cell_type": "code",
   "execution_count": 14,
   "metadata": {},
   "outputs": [
    {
     "name": "stderr",
     "output_type": "stream",
     "text": [
      "/tmp/ipykernel_2606729/334983547.py:9: FutureWarning: The 'sentence_transformers' MLflow Models integration is known to be compatible with the following package version ranges: ``2.2.2`` -  ``2.4.0``. MLflow Models integrations with sentence_transformers may not succeed when used with package versions outside of this range.\n",
      "  mlflow.sentence_transformers.log_model(\n",
      "/home/nish/Developer/such-toxic/.venv/lib/python3.10/site-packages/mlflow/models/model.py:619: FutureWarning: The 'sentence_transformers' MLflow Models integration is known to be compatible with the following package version ranges: ``2.2.2`` -  ``2.4.0``. MLflow Models integrations with sentence_transformers may not succeed when used with package versions outside of this range.\n",
      "  flavor.save_model(path=local_path, mlflow_model=mlflow_model, **kwargs)\n",
      "/home/nish/Developer/such-toxic/.venv/lib/python3.10/site-packages/_distutils_hack/__init__.py:11: UserWarning: Distutils was imported before Setuptools, but importing Setuptools also replaces the `distutils` module in `sys.modules`. This may lead to undesirable behaviors or errors. To avoid these issues, avoid using distutils directly, ensure that setuptools is installed in the traditional way (e.g. not an editable install), and/or make sure that setuptools is always imported before distutils.\n",
      "  warnings.warn(\n",
      "/home/nish/Developer/such-toxic/.venv/lib/python3.10/site-packages/_distutils_hack/__init__.py:26: UserWarning: Setuptools is replacing distutils.\n",
      "  warnings.warn(\"Setuptools is replacing distutils.\")\n"
     ]
    }
   ],
   "source": [
    "sentence_transformer = SentenceTransformer(sentence_transformer_model)\n",
    "\n",
    "if os.getenv(\"MLFLOW_ENABLED\") == \"true\":\n",
    "    data = \"Hello world!\"\n",
    "    signature = mlflow.models.infer_signature(\n",
    "        model_input=data,\n",
    "        model_output=sentence_transformer.encode(data),\n",
    "    )\n",
    "    mlflow.sentence_transformers.log_model(\n",
    "        model=sentence_transformer,\n",
    "        artifact_path=sentence_transformer_model,\n",
    "        signature=signature,\n",
    "        input_example=data,\n",
    "    )"
   ]
  },
  {
   "cell_type": "code",
   "execution_count": 15,
   "metadata": {},
   "outputs": [
    {
     "name": "stdout",
     "output_type": "stream",
     "text": [
      "Toxic:  0.9951565861701965\n",
      "Severe Toxic:  0.1802455186843872\n",
      "Obscene:  0.9900761246681213\n",
      "Threat:  0.0018481726292520761\n",
      "Insult:  0.9670491814613342\n",
      "Identity Hate:  0.058093372732400894\n"
     ]
    }
   ],
   "source": [
    "test_str = \"What a bunch of fucking nerds...\"\n",
    "\n",
    "\n",
    "embedding = sentence_transformer.encode([test_str], convert_to_tensor=True)\n",
    "output = model(embedding)\n",
    "output = output.cpu().detach().numpy().tolist()[0]\n",
    "\n",
    "print(\"Toxic: \", output[0])\n",
    "print(\"Severe Toxic: \", output[1])\n",
    "print(\"Obscene: \", output[2])\n",
    "print(\"Threat: \", output[3])\n",
    "print(\"Insult: \", output[4])\n",
    "print(\"Identity Hate: \", output[5])"
   ]
  },
  {
   "cell_type": "code",
   "execution_count": 16,
   "metadata": {},
   "outputs": [
    {
     "name": "stderr",
     "output_type": "stream",
     "text": [
      "2024/03/21 00:02:25 INFO mlflow.system_metrics.system_metrics_monitor: Stopping system metrics monitoring...\n",
      "2024/03/21 00:02:25 INFO mlflow.system_metrics.system_metrics_monitor: Successfully terminated system metrics monitoring!\n"
     ]
    }
   ],
   "source": [
    "if os.getenv(\"MLFLOW_ENABLED\") == \"true\":\n",
    "    mlflow.end_run()"
   ]
  }
 ],
 "metadata": {
  "colab": {
   "provenance": []
  },
  "kernelspec": {
   "display_name": "Python 3",
   "name": "python3"
  },
  "language_info": {
   "codemirror_mode": {
    "name": "ipython",
    "version": 3
   },
   "file_extension": ".py",
   "mimetype": "text/x-python",
   "name": "python",
   "nbconvert_exporter": "python",
   "pygments_lexer": "ipython3",
   "version": "3.10.4"
  }
 },
 "nbformat": 4,
 "nbformat_minor": 0
}
