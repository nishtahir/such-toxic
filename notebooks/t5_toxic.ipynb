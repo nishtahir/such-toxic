{
 "cells": [
  {
   "cell_type": "code",
   "execution_count": 1,
   "metadata": {},
   "outputs": [
    {
     "data": {
      "text/plain": [
       "True"
      ]
     },
     "execution_count": 1,
     "metadata": {},
     "output_type": "execute_result"
    }
   ],
   "source": [
    "%load_ext autoreload\n",
    "%autoreload 2\n",
    "\n",
    "from dotenv import load_dotenv\n",
    "\n",
    "load_dotenv(\"../.env\")"
   ]
  },
  {
   "cell_type": "code",
   "execution_count": 2,
   "metadata": {},
   "outputs": [],
   "source": [
    "import os\n",
    "\n",
    "import matplotlib.pyplot as plt\n",
    "import mlflow\n",
    "import mlflow.pytorch\n",
    "import numpy as np\n",
    "import torch\n",
    "from prisma import Prisma\n",
    "from torch.utils.data import DataLoader, Dataset, random_split\n",
    "from tqdm import tqdm\n",
    "from transformers import AutoTokenizer, T5ForSequenceClassification"
   ]
  },
  {
   "cell_type": "code",
   "execution_count": 3,
   "metadata": {},
   "outputs": [
    {
     "data": {
      "text/plain": [
       "device(type='cuda')"
      ]
     },
     "execution_count": 3,
     "metadata": {},
     "output_type": "execute_result"
    }
   ],
   "source": [
    "if torch.cuda.is_available():\n",
    "    device = torch.device(\"cuda\")\n",
    "elif torch.backends.mps.is_available():\n",
    "    device = torch.device(\"mps\")\n",
    "else:\n",
    "    device = torch.device(\"cpu\")\n",
    "\n",
    "device"
   ]
  },
  {
   "cell_type": "code",
   "execution_count": 4,
   "metadata": {},
   "outputs": [],
   "source": [
    "np.set_printoptions(suppress=True)\n",
    "\n",
    "model_name = \"t5-small\"\n",
    "max_input_length = 128\n",
    "num_classes = 6\n",
    "batch_size = 16\n",
    "epochs = 10\n",
    "lr = 0.001"
   ]
  },
  {
   "cell_type": "code",
   "execution_count": 5,
   "metadata": {},
   "outputs": [],
   "source": [
    "if os.getenv(\"MLFLOW_ENABLED\") == \"true\":\n",
    "    print(\"Starting run\")\n",
    "    mlflow.set_tracking_uri(os.getenv(\"MLFLOW_TRACKING_URI\"))\n",
    "    mlflow.set_experiment(\"t5-toxic\")\n",
    "    mlflow.pytorch.autolog()\n",
    "    mlflow.start_run()\n",
    "\n",
    "    mlflow.log_param(\"model_name\", model_name)\n",
    "    mlflow.log_param(\"max_input_length\", max_input_length)\n",
    "    mlflow.log_param(\"num_classes\", num_classes)\n",
    "    mlflow.log_param(\"batch_size\", batch_size)\n",
    "    mlflow.log_param(\"epochs\", epochs)\n",
    "    mlflow.log_param(\"learning_rate\", lr)"
   ]
  },
  {
   "cell_type": "code",
   "execution_count": 6,
   "metadata": {},
   "outputs": [
    {
     "name": "stderr",
     "output_type": "stream",
     "text": [
      "Some weights of T5ForSequenceClassification were not initialized from the model checkpoint at t5-small and are newly initialized: ['classification_head.dense.bias', 'classification_head.dense.weight', 'classification_head.out_proj.bias', 'classification_head.out_proj.weight']\n",
      "You should probably TRAIN this model on a down-stream task to be able to use it for predictions and inference.\n"
     ]
    }
   ],
   "source": [
    "model = T5ForSequenceClassification.from_pretrained(model_name, num_labels=num_classes)\n",
    "model.to(device)\n",
    "\n",
    "tokenizer = AutoTokenizer.from_pretrained(model_name)"
   ]
  },
  {
   "cell_type": "code",
   "execution_count": 7,
   "metadata": {},
   "outputs": [],
   "source": [
    "db = Prisma(\n",
    "    http={\n",
    "        \"timeout\": None,\n",
    "    },\n",
    ")\n",
    "db.connect()\n",
    "\n",
    "dataset_ids = db.query_raw(query=\"select id from comments\")\n",
    "train_ids, validation_ids, test_ids = random_split(dataset_ids, [0.7, 0.05, 0.25])"
   ]
  },
  {
   "cell_type": "code",
   "execution_count": 8,
   "metadata": {},
   "outputs": [],
   "source": [
    "thresholds = {\n",
    "    \"toxic\": 0.7,\n",
    "    \"severe_toxic\": 0.7,\n",
    "    \"obscene\": 0.7,\n",
    "    \"threat\": 0.7,\n",
    "    \"insult\": 0.7,\n",
    "    \"identity_hate\": 0.6,\n",
    "}"
   ]
  },
  {
   "cell_type": "code",
   "execution_count": 9,
   "metadata": {},
   "outputs": [
    {
     "name": "stdout",
     "output_type": "stream",
     "text": [
      "Input:  torch.Size([16, 1, 128])\n",
      "Mask:  torch.Size([16, 1, 128])\n",
      "Output:  torch.Size([16, 6])\n"
     ]
    }
   ],
   "source": [
    "class ToxicDataset(Dataset):\n",
    "    def __init__(self, ids):\n",
    "        self.ids = ids\n",
    "\n",
    "    def __len__(self):\n",
    "        return len(self.ids)\n",
    "\n",
    "    def __getitem__(self, idx):\n",
    "        id = self.ids[idx]\n",
    "        row = db.comments.find_first(where=id)\n",
    "        tokens = tokenizer(\n",
    "            row.comment_text,\n",
    "            return_tensors=\"pt\",\n",
    "            truncation=True,\n",
    "            return_length=True,\n",
    "            max_length=max_input_length,\n",
    "            padding=\"max_length\",\n",
    "        )\n",
    "\n",
    "        labels = [\n",
    "            1 if row.toxic >= thresholds[\"toxic\"] else 0,\n",
    "            1 if row.severe_toxic >= thresholds[\"severe_toxic\"] else 0,\n",
    "            1 if row.obscene >= thresholds[\"obscene\"] else 0,\n",
    "            1 if row.threat >= thresholds[\"threat\"] else 0,\n",
    "            1 if row.insult >= thresholds[\"insult\"] else 0,\n",
    "            1 if row.identity_hate >= thresholds[\"identity_hate\"] else 0,\n",
    "        ]\n",
    "\n",
    "        return (\n",
    "            tokens[\"input_ids\"],\n",
    "            tokens[\"attention_mask\"],\n",
    "            torch.tensor(labels, dtype=torch.float32),\n",
    "        )\n",
    "\n",
    "\n",
    "train_dataset = ToxicDataset(list(train_ids))\n",
    "train_dataloader = DataLoader(train_dataset, batch_size, shuffle=True)\n",
    "\n",
    "validation_dataset = ToxicDataset(list(validation_ids))\n",
    "validation_dataloader = DataLoader(validation_dataset, batch_size, shuffle=True)\n",
    "\n",
    "test_dataset = ToxicDataset(list(test_ids))\n",
    "test_dataloader = DataLoader(test_dataset, batch_size, shuffle=True)\n",
    "\n",
    "for i, (input, mask, output) in enumerate(train_dataloader):\n",
    "    print(\"Input: \", input.shape)\n",
    "    print(\"Mask: \", mask.shape)\n",
    "    print(\"Output: \", output.shape)\n",
    "    break"
   ]
  },
  {
   "cell_type": "code",
   "execution_count": 10,
   "metadata": {},
   "outputs": [],
   "source": [
    "loss_fn = torch.nn.BCELoss()\n",
    "optimizer = torch.optim.Adam(model.parameters(), lr=lr)"
   ]
  },
  {
   "cell_type": "code",
   "execution_count": 11,
   "metadata": {},
   "outputs": [
    {
     "name": "stderr",
     "output_type": "stream",
     "text": [
      "Epoch: 100%|██████████| 10/10 [00:27<00:00,  2.73s/it, training_loss=1.91, validation_loss=1.84] \n"
     ]
    }
   ],
   "source": [
    "training_losses = []\n",
    "validation_losses = []\n",
    "\n",
    "\n",
    "def run_prediction(input, attn_mask, output):\n",
    "    input = input.squeeze(1).to(device)\n",
    "    attn_mask = attn_mask.squeeze(1).to(device)\n",
    "    predictions = model(input_ids=input, attention_mask=attn_mask)\n",
    "    probabilities = torch.softmax(predictions.logits, dim=-1)\n",
    "\n",
    "    loss = 0\n",
    "    if output is not None:\n",
    "        output = output.to(device)\n",
    "        loss = loss_fn(probabilities, output)\n",
    "\n",
    "    return probabilities, loss\n",
    "\n",
    "\n",
    "total_training_loss = 0\n",
    "total_validation_loss = 0\n",
    "pbar = tqdm(range(epochs), desc=\"Epoch\", position=0)\n",
    "for epoch in pbar:\n",
    "    model.train()\n",
    "\n",
    "    for input, attn_mask, output in tqdm(\n",
    "        train_dataloader,\n",
    "        desc=\"Training Batch\",\n",
    "        position=1,\n",
    "        leave=False,\n",
    "    ):\n",
    "        optimizer.zero_grad()\n",
    "        _, loss = run_prediction(input, attn_mask, output)\n",
    "        total_training_loss += loss.item()\n",
    "        loss.backward()\n",
    "        optimizer.step()\n",
    "\n",
    "    avg_training_loss = total_training_loss / len(train_dataloader)\n",
    "    training_losses.append(avg_training_loss)\n",
    "\n",
    "    model.eval()\n",
    "    for input, attn_mask, output in tqdm(\n",
    "        validation_dataloader,\n",
    "        desc=\"Validation Batch\",\n",
    "        position=1,\n",
    "        leave=False,\n",
    "    ):\n",
    "        _, loss = run_prediction(input, attn_mask, output)\n",
    "        total_validation_loss += loss.item()\n",
    "\n",
    "    avg_validation_loss = total_validation_loss / len(validation_dataloader)\n",
    "    validation_losses.append(avg_validation_loss)\n",
    "    pbar.set_postfix(\n",
    "        training_loss=avg_training_loss,\n",
    "        validation_loss=avg_validation_loss,\n",
    "    )\n",
    "\n",
    "    plt.plot(training_losses, label=\"Training Loss\")\n",
    "    plt.plot(validation_losses, label=\"Validation Loss\")\n",
    "    plt.xlabel(\"Epoch\")\n",
    "    plt.ylabel(\"Loss\")\n",
    "    plt.title(\"Training/Validation Loss\")\n",
    "    plt.legend()\n",
    "    plt.savefig(\"../target/training_loss.png\")\n",
    "    plt.close()\n",
    "\n",
    "    if os.getenv(\"MLFLOW_ENABLED\") == \"true\":\n",
    "        mlflow.log_metric(\"training_loss\", avg_training_loss, step=epoch)\n",
    "        mlflow.pytorch.log_model(model, \"t5-small-toxic\")\n",
    "\n",
    "    model.save_pretrained(\"../target/t5-small-toxicity\")\n",
    "    tokenizer.save_pretrained(\"../target/t5-small-toxicity\")"
   ]
  },
  {
   "cell_type": "code",
   "execution_count": 12,
   "metadata": {},
   "outputs": [],
   "source": [
    "model.eval()\n",
    "\n",
    "\n",
    "def accuracy(y_true, y_pred):\n",
    "    labels = 0\n",
    "    for true, pred in zip(y_true, y_pred):\n",
    "        if true == pred:\n",
    "            labels += 1\n",
    "    return labels / len(y_true)\n",
    "\n",
    "\n",
    "def true_positives(y_true, y_pred):\n",
    "    total_p = 0\n",
    "    tp = 0\n",
    "    for true, pred in zip(y_true, y_pred):\n",
    "        if true == 1:\n",
    "            total_p += 1\n",
    "        if true == 1 and pred == 1:\n",
    "            tp += 1\n",
    "    if total_p == 0:\n",
    "        return total_p\n",
    "    return tp / total_p\n",
    "\n",
    "\n",
    "def predict(input_ids, attn_mask, raw=False):\n",
    "    # Forward pass\n",
    "    with torch.no_grad():\n",
    "        predictions, _ = run_prediction(input_ids, attn_mask, output=None)\n",
    "        predictions = predictions.cpu().numpy()\n",
    "        predictions = predictions[0]\n",
    "    if raw:\n",
    "        return predictions\n",
    "\n",
    "    return [\n",
    "        1 if predictions[0] >= thresholds[\"toxic\"] else 0,\n",
    "        1 if predictions[1] >= thresholds[\"severe_toxic\"] else 0,\n",
    "        1 if predictions[2] >= thresholds[\"obscene\"] else 0,\n",
    "        1 if predictions[3] >= thresholds[\"threat\"] else 0,\n",
    "        1 if predictions[4] >= thresholds[\"insult\"] else 0,\n",
    "        1 if predictions[5] >= thresholds[\"identity_hate\"] else 0,\n",
    "    ]"
   ]
  },
  {
   "cell_type": "code",
   "execution_count": 13,
   "metadata": {},
   "outputs": [
    {
     "name": "stdout",
     "output_type": "stream",
     "text": [
      "{'toxic_accuracy': 1.0, 'toxic_true_positives': 0, 'severe_toxic_accuracy': 1.0, 'severe_toxic_true_positives': 0, 'obscene_accuracy': 1.0, 'obscene_true_positives': 0, 'threat_accuracy': 1.0, 'threat_true_positives': 0, 'insult_accuracy': 1.0, 'insult_true_positives': 0, 'identity_hate_accuracy': 1.0, 'identity_hate_true_positives': 0}\n"
     ]
    }
   ],
   "source": [
    "y_true = []\n",
    "y_pred = []\n",
    "for ids, mask, labels in list(test_dataset):\n",
    "    y_true.append(labels)\n",
    "    y_pred.append(predict(ids, mask))\n",
    "\n",
    "toxic_y_true = [x[0] for x in y_true]\n",
    "toxic_y_pred = [x[0] for x in y_pred]\n",
    "\n",
    "severe_toxic_y_true = [x[1] for x in y_true]\n",
    "severe_toxic_y_pred = [x[1] for x in y_pred]\n",
    "\n",
    "obscene_y_true = [x[2] for x in y_true]\n",
    "obscene_y_pred = [x[2] for x in y_pred]\n",
    "\n",
    "threat_y_true = [x[3] for x in y_true]\n",
    "threat_y_pred = [x[3] for x in y_pred]\n",
    "\n",
    "insult_y_true = [x[4] for x in y_true]\n",
    "insult_y_pred = [x[4] for x in y_pred]\n",
    "\n",
    "identity_hate_y_true = [x[5] for x in y_true]\n",
    "identity_hate_y_pred = [x[5] for x in y_pred]\n",
    "\n",
    "accuracy_metrics = {\n",
    "    \"toxic_accuracy\": accuracy(\n",
    "        toxic_y_true,\n",
    "        toxic_y_pred,\n",
    "    ),\n",
    "    \"toxic_true_positives\": true_positives(\n",
    "        toxic_y_true,\n",
    "        toxic_y_pred,\n",
    "    ),\n",
    "    \"severe_toxic_accuracy\": accuracy(\n",
    "        severe_toxic_y_true,\n",
    "        severe_toxic_y_pred,\n",
    "    ),\n",
    "    \"severe_toxic_true_positives\": true_positives(\n",
    "        severe_toxic_y_true,\n",
    "        severe_toxic_y_pred,\n",
    "    ),\n",
    "    \"obscene_accuracy\": accuracy(\n",
    "        obscene_y_true,\n",
    "        obscene_y_pred,\n",
    "    ),\n",
    "    \"obscene_true_positives\": true_positives(\n",
    "        obscene_y_true,\n",
    "        obscene_y_pred,\n",
    "    ),\n",
    "    \"threat_accuracy\": accuracy(\n",
    "        threat_y_true,\n",
    "        threat_y_pred,\n",
    "    ),\n",
    "    \"threat_true_positives\": true_positives(\n",
    "        threat_y_true,\n",
    "        threat_y_pred,\n",
    "    ),\n",
    "    \"insult_accuracy\": accuracy(\n",
    "        insult_y_true,\n",
    "        insult_y_pred,\n",
    "    ),\n",
    "    \"insult_true_positives\": true_positives(\n",
    "        insult_y_true,\n",
    "        insult_y_pred,\n",
    "    ),\n",
    "    \"identity_hate_accuracy\": accuracy(\n",
    "        identity_hate_y_true,\n",
    "        identity_hate_y_pred,\n",
    "    ),\n",
    "    \"identity_hate_true_positives\": true_positives(\n",
    "        identity_hate_y_true,\n",
    "        identity_hate_y_pred,\n",
    "    ),\n",
    "}\n",
    "if os.getenv(\"MLFLOW_ENABLED\") == \"true\":\n",
    "    mlflow.log_metrics(accuracy_metrics)\n",
    "\n",
    "print(accuracy_metrics)"
   ]
  },
  {
   "cell_type": "code",
   "execution_count": 14,
   "metadata": {},
   "outputs": [],
   "source": [
    "db.disconnect()\n",
    "\n",
    "if os.getenv(\"MLFLOW_ENABLED\") == \"true\":\n",
    "    mlflow.end_run()"
   ]
  },
  {
   "cell_type": "code",
   "execution_count": 15,
   "metadata": {},
   "outputs": [
    {
     "data": {
      "text/plain": [
       "[0.17869669198989868,\n",
       " 0.14727136492729187,\n",
       " 0.2174721211194992,\n",
       " 0.1398240476846695,\n",
       " 0.17705754935741425,\n",
       " 0.1396782398223877]"
      ]
     },
     "execution_count": 15,
     "metadata": {},
     "output_type": "execute_result"
    }
   ],
   "source": [
    "def run_inference(text):\n",
    "    tokens = tokenizer(\n",
    "        text,\n",
    "        return_tensors=\"pt\",\n",
    "        truncation=True,\n",
    "        return_length=True,\n",
    "        max_length=max_input_length,\n",
    "        padding=\"max_length\",\n",
    "    )\n",
    "    with torch.no_grad():\n",
    "        predictions = run_prediction(\n",
    "            tokens[\"input_ids\"],\n",
    "            tokens[\"attention_mask\"],\n",
    "            output=None,\n",
    "        )\n",
    "        predictions = predictions[0]\n",
    "        return predictions.cpu().numpy().tolist()[0]\n",
    "\n",
    "\n",
    "run_inference(\"Hello World\")"
   ]
  }
 ],
 "metadata": {
  "kernelspec": {
   "display_name": ".venv",
   "language": "python",
   "name": "python3"
  },
  "language_info": {
   "codemirror_mode": {
    "name": "ipython",
    "version": 3
   },
   "file_extension": ".py",
   "mimetype": "text/x-python",
   "name": "python",
   "nbconvert_exporter": "python",
   "pygments_lexer": "ipython3",
   "version": "3.10.12"
  }
 },
 "nbformat": 4,
 "nbformat_minor": 2
}
